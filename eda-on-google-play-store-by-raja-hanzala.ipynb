{
 "cells": [
  {
   "cell_type": "code",
   "execution_count": 1,
   "id": "328062f5",
   "metadata": {
    "execution": {
     "iopub.execute_input": "2024-10-20T16:04:31.628617Z",
     "iopub.status.busy": "2024-10-20T16:04:31.628140Z",
     "iopub.status.idle": "2024-10-20T16:04:34.584058Z",
     "shell.execute_reply": "2024-10-20T16:04:34.583026Z"
    },
    "papermill": {
     "duration": 2.984756,
     "end_time": "2024-10-20T16:04:34.586866",
     "exception": false,
     "start_time": "2024-10-20T16:04:31.602110",
     "status": "completed"
    },
    "tags": []
   },
   "outputs": [],
   "source": [
    "# Importing Libraries\n",
    "import pandas as pd\n",
    "import numpy as np\n",
    "import matplotlib.pyplot as plt\n",
    "import seaborn as sns\n",
    "#this is for jupyter notebook to show the plot in the notebook itself instead of opening a new window for the plot\n",
    "%matplotlib inline "
   ]
  },
  {
   "cell_type": "markdown",
   "id": "2c8336d9",
   "metadata": {
    "papermill": {
     "duration": 0.017369,
     "end_time": "2024-10-20T16:04:34.621092",
     "exception": false,
     "start_time": "2024-10-20T16:04:34.603723",
     "status": "completed"
    },
    "tags": []
   },
   "source": [
    "# Reading the data from a CSV file into a pandas DataFrame"
   ]
  },
  {
   "cell_type": "code",
   "execution_count": 2,
   "id": "4e381525",
   "metadata": {
    "execution": {
     "iopub.execute_input": "2024-10-20T16:04:34.656248Z",
     "iopub.status.busy": "2024-10-20T16:04:34.655693Z",
     "iopub.status.idle": "2024-10-20T16:05:10.652078Z",
     "shell.execute_reply": "2024-10-20T16:05:10.650714Z"
    },
    "papermill": {
     "duration": 36.017488,
     "end_time": "2024-10-20T16:05:10.655200",
     "exception": false,
     "start_time": "2024-10-20T16:04:34.637712",
     "status": "completed"
    },
    "tags": []
   },
   "outputs": [],
   "source": [
    "df=pd.read_csv('/kaggle/input/google-playstore-apps/Google-Playstore.csv')"
   ]
  },
  {
   "cell_type": "markdown",
   "id": "54ed405d",
   "metadata": {
    "papermill": {
     "duration": 0.016217,
     "end_time": "2024-10-20T16:05:10.688358",
     "exception": false,
     "start_time": "2024-10-20T16:05:10.672141",
     "status": "completed"
    },
    "tags": []
   },
   "source": [
    "# Displaying the first 5 rows of the DataFrame 'df'"
   ]
  },
  {
   "cell_type": "code",
   "execution_count": 3,
   "id": "60470fb8",
   "metadata": {
    "execution": {
     "iopub.execute_input": "2024-10-20T16:05:10.723524Z",
     "iopub.status.busy": "2024-10-20T16:05:10.722892Z",
     "iopub.status.idle": "2024-10-20T16:05:10.774878Z",
     "shell.execute_reply": "2024-10-20T16:05:10.773718Z"
    },
    "papermill": {
     "duration": 0.073277,
     "end_time": "2024-10-20T16:05:10.778123",
     "exception": false,
     "start_time": "2024-10-20T16:05:10.704846",
     "status": "completed"
    },
    "tags": []
   },
   "outputs": [
    {
     "data": {
      "text/html": [
       "<div>\n",
       "<style scoped>\n",
       "    .dataframe tbody tr th:only-of-type {\n",
       "        vertical-align: middle;\n",
       "    }\n",
       "\n",
       "    .dataframe tbody tr th {\n",
       "        vertical-align: top;\n",
       "    }\n",
       "\n",
       "    .dataframe thead th {\n",
       "        text-align: right;\n",
       "    }\n",
       "</style>\n",
       "<table border=\"1\" class=\"dataframe\">\n",
       "  <thead>\n",
       "    <tr style=\"text-align: right;\">\n",
       "      <th></th>\n",
       "      <th>App Name</th>\n",
       "      <th>App Id</th>\n",
       "      <th>Category</th>\n",
       "      <th>Rating</th>\n",
       "      <th>Rating Count</th>\n",
       "      <th>Installs</th>\n",
       "      <th>Minimum Installs</th>\n",
       "      <th>Maximum Installs</th>\n",
       "      <th>Free</th>\n",
       "      <th>Price</th>\n",
       "      <th>...</th>\n",
       "      <th>Developer Website</th>\n",
       "      <th>Developer Email</th>\n",
       "      <th>Released</th>\n",
       "      <th>Last Updated</th>\n",
       "      <th>Content Rating</th>\n",
       "      <th>Privacy Policy</th>\n",
       "      <th>Ad Supported</th>\n",
       "      <th>In App Purchases</th>\n",
       "      <th>Editors Choice</th>\n",
       "      <th>Scraped Time</th>\n",
       "    </tr>\n",
       "  </thead>\n",
       "  <tbody>\n",
       "    <tr>\n",
       "      <th>0</th>\n",
       "      <td>Gakondo</td>\n",
       "      <td>com.ishakwe.gakondo</td>\n",
       "      <td>Adventure</td>\n",
       "      <td>0.0</td>\n",
       "      <td>0.0</td>\n",
       "      <td>10+</td>\n",
       "      <td>10.0</td>\n",
       "      <td>15</td>\n",
       "      <td>True</td>\n",
       "      <td>0.0</td>\n",
       "      <td>...</td>\n",
       "      <td>https://beniyizibyose.tk/#/</td>\n",
       "      <td>jean21101999@gmail.com</td>\n",
       "      <td>Feb 26, 2020</td>\n",
       "      <td>Feb 26, 2020</td>\n",
       "      <td>Everyone</td>\n",
       "      <td>https://beniyizibyose.tk/projects/</td>\n",
       "      <td>False</td>\n",
       "      <td>False</td>\n",
       "      <td>False</td>\n",
       "      <td>2021-06-15 20:19:35</td>\n",
       "    </tr>\n",
       "    <tr>\n",
       "      <th>1</th>\n",
       "      <td>Ampere Battery Info</td>\n",
       "      <td>com.webserveis.batteryinfo</td>\n",
       "      <td>Tools</td>\n",
       "      <td>4.4</td>\n",
       "      <td>64.0</td>\n",
       "      <td>5,000+</td>\n",
       "      <td>5000.0</td>\n",
       "      <td>7662</td>\n",
       "      <td>True</td>\n",
       "      <td>0.0</td>\n",
       "      <td>...</td>\n",
       "      <td>https://webserveis.netlify.app/</td>\n",
       "      <td>webserveis@gmail.com</td>\n",
       "      <td>May 21, 2020</td>\n",
       "      <td>May 06, 2021</td>\n",
       "      <td>Everyone</td>\n",
       "      <td>https://dev4phones.wordpress.com/licencia-de-uso/</td>\n",
       "      <td>True</td>\n",
       "      <td>False</td>\n",
       "      <td>False</td>\n",
       "      <td>2021-06-15 20:19:35</td>\n",
       "    </tr>\n",
       "    <tr>\n",
       "      <th>2</th>\n",
       "      <td>Vibook</td>\n",
       "      <td>com.doantiepvien.crm</td>\n",
       "      <td>Productivity</td>\n",
       "      <td>0.0</td>\n",
       "      <td>0.0</td>\n",
       "      <td>50+</td>\n",
       "      <td>50.0</td>\n",
       "      <td>58</td>\n",
       "      <td>True</td>\n",
       "      <td>0.0</td>\n",
       "      <td>...</td>\n",
       "      <td>NaN</td>\n",
       "      <td>vnacrewit@gmail.com</td>\n",
       "      <td>Aug 9, 2019</td>\n",
       "      <td>Aug 19, 2019</td>\n",
       "      <td>Everyone</td>\n",
       "      <td>https://www.vietnamairlines.com/vn/en/terms-an...</td>\n",
       "      <td>False</td>\n",
       "      <td>False</td>\n",
       "      <td>False</td>\n",
       "      <td>2021-06-15 20:19:35</td>\n",
       "    </tr>\n",
       "    <tr>\n",
       "      <th>3</th>\n",
       "      <td>Smart City Trichy Public Service Vehicles 17UC...</td>\n",
       "      <td>cst.stJoseph.ug17ucs548</td>\n",
       "      <td>Communication</td>\n",
       "      <td>5.0</td>\n",
       "      <td>5.0</td>\n",
       "      <td>10+</td>\n",
       "      <td>10.0</td>\n",
       "      <td>19</td>\n",
       "      <td>True</td>\n",
       "      <td>0.0</td>\n",
       "      <td>...</td>\n",
       "      <td>http://www.climatesmarttech.com/</td>\n",
       "      <td>climatesmarttech2@gmail.com</td>\n",
       "      <td>Sep 10, 2018</td>\n",
       "      <td>Oct 13, 2018</td>\n",
       "      <td>Everyone</td>\n",
       "      <td>NaN</td>\n",
       "      <td>True</td>\n",
       "      <td>False</td>\n",
       "      <td>False</td>\n",
       "      <td>2021-06-15 20:19:35</td>\n",
       "    </tr>\n",
       "    <tr>\n",
       "      <th>4</th>\n",
       "      <td>GROW.me</td>\n",
       "      <td>com.horodyski.grower</td>\n",
       "      <td>Tools</td>\n",
       "      <td>0.0</td>\n",
       "      <td>0.0</td>\n",
       "      <td>100+</td>\n",
       "      <td>100.0</td>\n",
       "      <td>478</td>\n",
       "      <td>True</td>\n",
       "      <td>0.0</td>\n",
       "      <td>...</td>\n",
       "      <td>http://www.horodyski.com.pl</td>\n",
       "      <td>rmilekhorodyski@gmail.com</td>\n",
       "      <td>Feb 21, 2020</td>\n",
       "      <td>Nov 12, 2018</td>\n",
       "      <td>Everyone</td>\n",
       "      <td>http://www.horodyski.com.pl</td>\n",
       "      <td>False</td>\n",
       "      <td>False</td>\n",
       "      <td>False</td>\n",
       "      <td>2021-06-15 20:19:35</td>\n",
       "    </tr>\n",
       "  </tbody>\n",
       "</table>\n",
       "<p>5 rows × 24 columns</p>\n",
       "</div>"
      ],
      "text/plain": [
       "                                            App Name  \\\n",
       "0                                            Gakondo   \n",
       "1                                Ampere Battery Info   \n",
       "2                                             Vibook   \n",
       "3  Smart City Trichy Public Service Vehicles 17UC...   \n",
       "4                                            GROW.me   \n",
       "\n",
       "                       App Id       Category  Rating  Rating Count Installs  \\\n",
       "0         com.ishakwe.gakondo      Adventure     0.0           0.0      10+   \n",
       "1  com.webserveis.batteryinfo          Tools     4.4          64.0   5,000+   \n",
       "2        com.doantiepvien.crm   Productivity     0.0           0.0      50+   \n",
       "3     cst.stJoseph.ug17ucs548  Communication     5.0           5.0      10+   \n",
       "4        com.horodyski.grower          Tools     0.0           0.0     100+   \n",
       "\n",
       "   Minimum Installs  Maximum Installs  Free  Price  ...  \\\n",
       "0              10.0                15  True    0.0  ...   \n",
       "1            5000.0              7662  True    0.0  ...   \n",
       "2              50.0                58  True    0.0  ...   \n",
       "3              10.0                19  True    0.0  ...   \n",
       "4             100.0               478  True    0.0  ...   \n",
       "\n",
       "                  Developer Website              Developer Email  \\\n",
       "0       https://beniyizibyose.tk/#/       jean21101999@gmail.com   \n",
       "1   https://webserveis.netlify.app/         webserveis@gmail.com   \n",
       "2                               NaN          vnacrewit@gmail.com   \n",
       "3  http://www.climatesmarttech.com/  climatesmarttech2@gmail.com   \n",
       "4       http://www.horodyski.com.pl    rmilekhorodyski@gmail.com   \n",
       "\n",
       "       Released  Last Updated Content Rating  \\\n",
       "0  Feb 26, 2020  Feb 26, 2020       Everyone   \n",
       "1  May 21, 2020  May 06, 2021       Everyone   \n",
       "2   Aug 9, 2019  Aug 19, 2019       Everyone   \n",
       "3  Sep 10, 2018  Oct 13, 2018       Everyone   \n",
       "4  Feb 21, 2020  Nov 12, 2018       Everyone   \n",
       "\n",
       "                                      Privacy Policy Ad Supported  \\\n",
       "0                 https://beniyizibyose.tk/projects/        False   \n",
       "1  https://dev4phones.wordpress.com/licencia-de-uso/         True   \n",
       "2  https://www.vietnamairlines.com/vn/en/terms-an...        False   \n",
       "3                                                NaN         True   \n",
       "4                        http://www.horodyski.com.pl        False   \n",
       "\n",
       "  In App Purchases Editors Choice         Scraped Time  \n",
       "0            False          False  2021-06-15 20:19:35  \n",
       "1            False          False  2021-06-15 20:19:35  \n",
       "2            False          False  2021-06-15 20:19:35  \n",
       "3            False          False  2021-06-15 20:19:35  \n",
       "4            False          False  2021-06-15 20:19:35  \n",
       "\n",
       "[5 rows x 24 columns]"
      ]
     },
     "execution_count": 3,
     "metadata": {},
     "output_type": "execute_result"
    }
   ],
   "source": [
    "df.head()"
   ]
  },
  {
   "cell_type": "markdown",
   "id": "0b7c0675",
   "metadata": {
    "papermill": {
     "duration": 0.01708,
     "end_time": "2024-10-20T16:05:10.812534",
     "exception": false,
     "start_time": "2024-10-20T16:05:10.795454",
     "status": "completed"
    },
    "tags": []
   },
   "source": [
    "# Setting display options to show all columns and rows when displaying a DataFrame"
   ]
  },
  {
   "cell_type": "code",
   "execution_count": 4,
   "id": "da8b9da9",
   "metadata": {
    "execution": {
     "iopub.execute_input": "2024-10-20T16:05:10.849321Z",
     "iopub.status.busy": "2024-10-20T16:05:10.848913Z",
     "iopub.status.idle": "2024-10-20T16:05:10.855343Z",
     "shell.execute_reply": "2024-10-20T16:05:10.854014Z"
    },
    "papermill": {
     "duration": 0.028058,
     "end_time": "2024-10-20T16:05:10.858225",
     "exception": false,
     "start_time": "2024-10-20T16:05:10.830167",
     "status": "completed"
    },
    "tags": []
   },
   "outputs": [],
   "source": [
    "# set options to be max for rows and cols\n",
    "pd.set_option('display.max_columns',None)\n",
    "pd.set_option('display.max_rows',None)\n",
    "\n",
    "# hide all warnings\n",
    "import warnings\n",
    "warnings.filterwarnings('ignore')"
   ]
  },
  {
   "cell_type": "markdown",
   "id": "491417cd",
   "metadata": {
    "papermill": {
     "duration": 0.017069,
     "end_time": "2024-10-20T16:05:10.892727",
     "exception": false,
     "start_time": "2024-10-20T16:05:10.875658",
     "status": "completed"
    },
    "tags": []
   },
   "source": [
    "# we check the columns how many col we have"
   ]
  },
  {
   "cell_type": "code",
   "execution_count": 5,
   "id": "acc3c41a",
   "metadata": {
    "execution": {
     "iopub.execute_input": "2024-10-20T16:05:10.929048Z",
     "iopub.status.busy": "2024-10-20T16:05:10.928589Z",
     "iopub.status.idle": "2024-10-20T16:05:10.937314Z",
     "shell.execute_reply": "2024-10-20T16:05:10.936217Z"
    },
    "papermill": {
     "duration": 0.029857,
     "end_time": "2024-10-20T16:05:10.939740",
     "exception": false,
     "start_time": "2024-10-20T16:05:10.909883",
     "status": "completed"
    },
    "tags": []
   },
   "outputs": [
    {
     "data": {
      "text/plain": [
       "Index(['App Name', 'App Id', 'Category', 'Rating', 'Rating Count', 'Installs',\n",
       "       'Minimum Installs', 'Maximum Installs', 'Free', 'Price', 'Currency',\n",
       "       'Size', 'Minimum Android', 'Developer Id', 'Developer Website',\n",
       "       'Developer Email', 'Released', 'Last Updated', 'Content Rating',\n",
       "       'Privacy Policy', 'Ad Supported', 'In App Purchases', 'Editors Choice',\n",
       "       'Scraped Time'],\n",
       "      dtype='object')"
      ]
     },
     "execution_count": 5,
     "metadata": {},
     "output_type": "execute_result"
    }
   ],
   "source": [
    "df.columns"
   ]
  },
  {
   "cell_type": "markdown",
   "id": "b7aab65a",
   "metadata": {
    "papermill": {
     "duration": 0.017362,
     "end_time": "2024-10-20T16:05:10.975263",
     "exception": false,
     "start_time": "2024-10-20T16:05:10.957901",
     "status": "completed"
    },
    "tags": []
   },
   "source": [
    "# we check the shape of the rows and columns"
   ]
  },
  {
   "cell_type": "code",
   "execution_count": 6,
   "id": "b77bb7ef",
   "metadata": {
    "execution": {
     "iopub.execute_input": "2024-10-20T16:05:11.013061Z",
     "iopub.status.busy": "2024-10-20T16:05:11.012592Z",
     "iopub.status.idle": "2024-10-20T16:05:11.019068Z",
     "shell.execute_reply": "2024-10-20T16:05:11.017895Z"
    },
    "papermill": {
     "duration": 0.028932,
     "end_time": "2024-10-20T16:05:11.021655",
     "exception": false,
     "start_time": "2024-10-20T16:05:10.992723",
     "status": "completed"
    },
    "tags": []
   },
   "outputs": [
    {
     "name": "stdout",
     "output_type": "stream",
     "text": [
      "The Number of rows are 2312944, and columns are 24.\n"
     ]
    }
   ],
   "source": [
    "print(f'The Number of rows are {df.shape[0]}, and columns are {df.shape[1]}.')"
   ]
  },
  {
   "cell_type": "markdown",
   "id": "073264c7",
   "metadata": {
    "papermill": {
     "duration": 0.017008,
     "end_time": "2024-10-20T16:05:11.056113",
     "exception": false,
     "start_time": "2024-10-20T16:05:11.039105",
     "status": "completed"
    },
    "tags": []
   },
   "source": [
    "## Displaying a concise summary of the DataFrame 'df'\n",
    "## This provides useful information, including:\n",
    "## - The number of non-null entries in each column\n",
    "## - The data types of each column\n",
    "## - The total number of columns and rows"
   ]
  },
  {
   "cell_type": "code",
   "execution_count": 7,
   "id": "06859f9d",
   "metadata": {
    "execution": {
     "iopub.execute_input": "2024-10-20T16:05:11.093178Z",
     "iopub.status.busy": "2024-10-20T16:05:11.092726Z",
     "iopub.status.idle": "2024-10-20T16:05:11.122202Z",
     "shell.execute_reply": "2024-10-20T16:05:11.120855Z"
    },
    "papermill": {
     "duration": 0.051679,
     "end_time": "2024-10-20T16:05:11.125037",
     "exception": false,
     "start_time": "2024-10-20T16:05:11.073358",
     "status": "completed"
    },
    "tags": []
   },
   "outputs": [
    {
     "name": "stdout",
     "output_type": "stream",
     "text": [
      "<class 'pandas.core.frame.DataFrame'>\n",
      "RangeIndex: 2312944 entries, 0 to 2312943\n",
      "Data columns (total 24 columns):\n",
      " #   Column             Dtype  \n",
      "---  ------             -----  \n",
      " 0   App Name           object \n",
      " 1   App Id             object \n",
      " 2   Category           object \n",
      " 3   Rating             float64\n",
      " 4   Rating Count       float64\n",
      " 5   Installs           object \n",
      " 6   Minimum Installs   float64\n",
      " 7   Maximum Installs   int64  \n",
      " 8   Free               bool   \n",
      " 9   Price              float64\n",
      " 10  Currency           object \n",
      " 11  Size               object \n",
      " 12  Minimum Android    object \n",
      " 13  Developer Id       object \n",
      " 14  Developer Website  object \n",
      " 15  Developer Email    object \n",
      " 16  Released           object \n",
      " 17  Last Updated       object \n",
      " 18  Content Rating     object \n",
      " 19  Privacy Policy     object \n",
      " 20  Ad Supported       bool   \n",
      " 21  In App Purchases   bool   \n",
      " 22  Editors Choice     bool   \n",
      " 23  Scraped Time       object \n",
      "dtypes: bool(4), float64(4), int64(1), object(15)\n",
      "memory usage: 361.8+ MB\n"
     ]
    }
   ],
   "source": [
    "df.info()"
   ]
  },
  {
   "cell_type": "markdown",
   "id": "57501ae1",
   "metadata": {
    "papermill": {
     "duration": 0.017541,
     "end_time": "2024-10-20T16:05:11.161156",
     "exception": false,
     "start_time": "2024-10-20T16:05:11.143615",
     "status": "completed"
    },
    "tags": []
   },
   "source": [
    "# Drop the 'Scraped Time' column from the DataFrame 'df' and make the change in place"
   ]
  },
  {
   "cell_type": "code",
   "execution_count": 8,
   "id": "d9e4ff85",
   "metadata": {
    "execution": {
     "iopub.execute_input": "2024-10-20T16:05:11.199906Z",
     "iopub.status.busy": "2024-10-20T16:05:11.199048Z",
     "iopub.status.idle": "2024-10-20T16:05:11.670694Z",
     "shell.execute_reply": "2024-10-20T16:05:11.669662Z"
    },
    "papermill": {
     "duration": 0.493721,
     "end_time": "2024-10-20T16:05:11.673512",
     "exception": false,
     "start_time": "2024-10-20T16:05:11.179791",
     "status": "completed"
    },
    "tags": []
   },
   "outputs": [],
   "source": [
    "df.drop(columns=['Scraped Time'],inplace=True)"
   ]
  },
  {
   "cell_type": "markdown",
   "id": "1a6850c2",
   "metadata": {
    "papermill": {
     "duration": 0.017277,
     "end_time": "2024-10-20T16:05:11.708428",
     "exception": false,
     "start_time": "2024-10-20T16:05:11.691151",
     "status": "completed"
    },
    "tags": []
   },
   "source": [
    "# Generate a summary of statistical metrics for numerical columns in the DataFrame 'df'"
   ]
  },
  {
   "cell_type": "code",
   "execution_count": 9,
   "id": "2fb3f9c7",
   "metadata": {
    "execution": {
     "iopub.execute_input": "2024-10-20T16:05:11.745079Z",
     "iopub.status.busy": "2024-10-20T16:05:11.744639Z",
     "iopub.status.idle": "2024-10-20T16:05:12.306033Z",
     "shell.execute_reply": "2024-10-20T16:05:12.304775Z"
    },
    "papermill": {
     "duration": 0.582973,
     "end_time": "2024-10-20T16:05:12.308758",
     "exception": false,
     "start_time": "2024-10-20T16:05:11.725785",
     "status": "completed"
    },
    "tags": []
   },
   "outputs": [
    {
     "data": {
      "text/html": [
       "<div>\n",
       "<style scoped>\n",
       "    .dataframe tbody tr th:only-of-type {\n",
       "        vertical-align: middle;\n",
       "    }\n",
       "\n",
       "    .dataframe tbody tr th {\n",
       "        vertical-align: top;\n",
       "    }\n",
       "\n",
       "    .dataframe thead th {\n",
       "        text-align: right;\n",
       "    }\n",
       "</style>\n",
       "<table border=\"1\" class=\"dataframe\">\n",
       "  <thead>\n",
       "    <tr style=\"text-align: right;\">\n",
       "      <th></th>\n",
       "      <th>Rating</th>\n",
       "      <th>Rating Count</th>\n",
       "      <th>Minimum Installs</th>\n",
       "      <th>Maximum Installs</th>\n",
       "      <th>Price</th>\n",
       "    </tr>\n",
       "  </thead>\n",
       "  <tbody>\n",
       "    <tr>\n",
       "      <th>count</th>\n",
       "      <td>2.290061e+06</td>\n",
       "      <td>2.290061e+06</td>\n",
       "      <td>2.312837e+06</td>\n",
       "      <td>2.312944e+06</td>\n",
       "      <td>2.312944e+06</td>\n",
       "    </tr>\n",
       "    <tr>\n",
       "      <th>mean</th>\n",
       "      <td>2.203152e+00</td>\n",
       "      <td>2.864839e+03</td>\n",
       "      <td>1.834452e+05</td>\n",
       "      <td>3.202017e+05</td>\n",
       "      <td>1.034992e-01</td>\n",
       "    </tr>\n",
       "    <tr>\n",
       "      <th>std</th>\n",
       "      <td>2.106223e+00</td>\n",
       "      <td>2.121626e+05</td>\n",
       "      <td>1.513144e+07</td>\n",
       "      <td>2.355495e+07</td>\n",
       "      <td>2.633127e+00</td>\n",
       "    </tr>\n",
       "    <tr>\n",
       "      <th>min</th>\n",
       "      <td>0.000000e+00</td>\n",
       "      <td>0.000000e+00</td>\n",
       "      <td>0.000000e+00</td>\n",
       "      <td>0.000000e+00</td>\n",
       "      <td>0.000000e+00</td>\n",
       "    </tr>\n",
       "    <tr>\n",
       "      <th>25%</th>\n",
       "      <td>0.000000e+00</td>\n",
       "      <td>0.000000e+00</td>\n",
       "      <td>5.000000e+01</td>\n",
       "      <td>8.400000e+01</td>\n",
       "      <td>0.000000e+00</td>\n",
       "    </tr>\n",
       "    <tr>\n",
       "      <th>50%</th>\n",
       "      <td>2.900000e+00</td>\n",
       "      <td>6.000000e+00</td>\n",
       "      <td>5.000000e+02</td>\n",
       "      <td>6.950000e+02</td>\n",
       "      <td>0.000000e+00</td>\n",
       "    </tr>\n",
       "    <tr>\n",
       "      <th>75%</th>\n",
       "      <td>4.300000e+00</td>\n",
       "      <td>4.200000e+01</td>\n",
       "      <td>5.000000e+03</td>\n",
       "      <td>7.354000e+03</td>\n",
       "      <td>0.000000e+00</td>\n",
       "    </tr>\n",
       "    <tr>\n",
       "      <th>max</th>\n",
       "      <td>5.000000e+00</td>\n",
       "      <td>1.385576e+08</td>\n",
       "      <td>1.000000e+10</td>\n",
       "      <td>1.205763e+10</td>\n",
       "      <td>4.000000e+02</td>\n",
       "    </tr>\n",
       "  </tbody>\n",
       "</table>\n",
       "</div>"
      ],
      "text/plain": [
       "             Rating  Rating Count  Minimum Installs  Maximum Installs  \\\n",
       "count  2.290061e+06  2.290061e+06      2.312837e+06      2.312944e+06   \n",
       "mean   2.203152e+00  2.864839e+03      1.834452e+05      3.202017e+05   \n",
       "std    2.106223e+00  2.121626e+05      1.513144e+07      2.355495e+07   \n",
       "min    0.000000e+00  0.000000e+00      0.000000e+00      0.000000e+00   \n",
       "25%    0.000000e+00  0.000000e+00      5.000000e+01      8.400000e+01   \n",
       "50%    2.900000e+00  6.000000e+00      5.000000e+02      6.950000e+02   \n",
       "75%    4.300000e+00  4.200000e+01      5.000000e+03      7.354000e+03   \n",
       "max    5.000000e+00  1.385576e+08      1.000000e+10      1.205763e+10   \n",
       "\n",
       "              Price  \n",
       "count  2.312944e+06  \n",
       "mean   1.034992e-01  \n",
       "std    2.633127e+00  \n",
       "min    0.000000e+00  \n",
       "25%    0.000000e+00  \n",
       "50%    0.000000e+00  \n",
       "75%    0.000000e+00  \n",
       "max    4.000000e+02  "
      ]
     },
     "execution_count": 9,
     "metadata": {},
     "output_type": "execute_result"
    }
   ],
   "source": [
    "df.describe()"
   ]
  },
  {
   "cell_type": "markdown",
   "id": "41849320",
   "metadata": {
    "papermill": {
     "duration": 0.018021,
     "end_time": "2024-10-20T16:05:12.344661",
     "exception": false,
     "start_time": "2024-10-20T16:05:12.326640",
     "status": "completed"
    },
    "tags": []
   },
   "source": [
    "# Count the occurrences of each unique value in the 'Size' column of the DataFrame 'df'"
   ]
  },
  {
   "cell_type": "code",
   "execution_count": 10,
   "id": "88ebb0ec",
   "metadata": {
    "execution": {
     "iopub.execute_input": "2024-10-20T16:05:12.382250Z",
     "iopub.status.busy": "2024-10-20T16:05:12.381809Z",
     "iopub.status.idle": "2024-10-20T16:05:12.605006Z",
     "shell.execute_reply": "2024-10-20T16:05:12.603871Z"
    },
    "papermill": {
     "duration": 0.244946,
     "end_time": "2024-10-20T16:05:12.607414",
     "exception": false,
     "start_time": "2024-10-20T16:05:12.362468",
     "status": "completed"
    },
    "tags": []
   },
   "outputs": [
    {
     "data": {
      "text/plain": [
       "array(['10M', '2.9M', '3.7M', ..., '405M', '3.2k', '512M'], dtype=object)"
      ]
     },
     "execution_count": 10,
     "metadata": {},
     "output_type": "execute_result"
    }
   ],
   "source": [
    "df['Size'].unique()"
   ]
  },
  {
   "cell_type": "markdown",
   "id": "8a389992",
   "metadata": {
    "papermill": {
     "duration": 0.017577,
     "end_time": "2024-10-20T16:05:12.642879",
     "exception": false,
     "start_time": "2024-10-20T16:05:12.625302",
     "status": "completed"
    },
    "tags": []
   },
   "source": [
    "# Calculate the number of missing values in each column of the DataFrame 'df'"
   ]
  },
  {
   "cell_type": "code",
   "execution_count": 11,
   "id": "20e541fd",
   "metadata": {
    "execution": {
     "iopub.execute_input": "2024-10-20T16:05:12.680282Z",
     "iopub.status.busy": "2024-10-20T16:05:12.679856Z",
     "iopub.status.idle": "2024-10-20T16:05:16.131735Z",
     "shell.execute_reply": "2024-10-20T16:05:16.130562Z"
    },
    "papermill": {
     "duration": 3.473906,
     "end_time": "2024-10-20T16:05:16.134532",
     "exception": false,
     "start_time": "2024-10-20T16:05:12.660626",
     "status": "completed"
    },
    "tags": []
   },
   "outputs": [
    {
     "data": {
      "text/plain": [
       "App Name                  5\n",
       "App Id                    0\n",
       "Category                  0\n",
       "Rating                22883\n",
       "Rating Count          22883\n",
       "Installs                107\n",
       "Minimum Installs        107\n",
       "Maximum Installs          0\n",
       "Free                      0\n",
       "Price                     0\n",
       "Currency                135\n",
       "Size                    196\n",
       "Minimum Android        6530\n",
       "Developer Id             33\n",
       "Developer Website    760835\n",
       "Developer Email          31\n",
       "Released              71053\n",
       "Last Updated              0\n",
       "Content Rating            0\n",
       "Privacy Policy       420953\n",
       "Ad Supported              0\n",
       "In App Purchases          0\n",
       "Editors Choice            0\n",
       "dtype: int64"
      ]
     },
     "execution_count": 11,
     "metadata": {},
     "output_type": "execute_result"
    }
   ],
   "source": [
    "df.isnull().sum()"
   ]
  },
  {
   "cell_type": "markdown",
   "id": "bb104e9b",
   "metadata": {
    "papermill": {
     "duration": 0.018496,
     "end_time": "2024-10-20T16:05:16.171713",
     "exception": false,
     "start_time": "2024-10-20T16:05:16.153217",
     "status": "completed"
    },
    "tags": []
   },
   "source": [
    "# Calculate the number of missing values in Size column of the DataFrame 'df'"
   ]
  },
  {
   "cell_type": "code",
   "execution_count": 12,
   "id": "1e35a0b1",
   "metadata": {
    "execution": {
     "iopub.execute_input": "2024-10-20T16:05:16.210749Z",
     "iopub.status.busy": "2024-10-20T16:05:16.210305Z",
     "iopub.status.idle": "2024-10-20T16:05:16.464723Z",
     "shell.execute_reply": "2024-10-20T16:05:16.463476Z"
    },
    "papermill": {
     "duration": 0.277335,
     "end_time": "2024-10-20T16:05:16.467300",
     "exception": false,
     "start_time": "2024-10-20T16:05:16.189965",
     "status": "completed"
    },
    "tags": []
   },
   "outputs": [
    {
     "data": {
      "text/plain": [
       "196"
      ]
     },
     "execution_count": 12,
     "metadata": {},
     "output_type": "execute_result"
    }
   ],
   "source": [
    "df['Size'].isnull().sum()"
   ]
  },
  {
   "cell_type": "markdown",
   "id": "9e603073",
   "metadata": {
    "papermill": {
     "duration": 0.020774,
     "end_time": "2024-10-20T16:05:16.506367",
     "exception": false,
     "start_time": "2024-10-20T16:05:16.485593",
     "status": "completed"
    },
    "tags": []
   },
   "source": [
    "# Use .str.contains to filter values containing 'M', ignoring NaNs, and sum the counts\n",
    "# Use .str.contains to filter values containing 'k', ignoring NaNs, and sum the counts\n",
    "# Print the results for both 'M' and 'k'"
   ]
  },
  {
   "cell_type": "code",
   "execution_count": 13,
   "id": "955c5405",
   "metadata": {
    "execution": {
     "iopub.execute_input": "2024-10-20T16:05:16.545432Z",
     "iopub.status.busy": "2024-10-20T16:05:16.544353Z",
     "iopub.status.idle": "2024-10-20T16:05:19.779754Z",
     "shell.execute_reply": "2024-10-20T16:05:19.778164Z"
    },
    "papermill": {
     "duration": 3.257784,
     "end_time": "2024-10-20T16:05:19.782342",
     "exception": false,
     "start_time": "2024-10-20T16:05:16.524558",
     "status": "completed"
    },
    "tags": []
   },
   "outputs": [
    {
     "name": "stdout",
     "output_type": "stream",
     "text": [
      "Count of values in the 'Size' column that contain 'M': 2201705\n",
      "Count of values in the 'Size' column that contain 'k': 36253\n"
     ]
    }
   ],
   "source": [
    "# Find the count of values in the 'Size' column that contain 'M'\n",
    "m_count = df['Size'].loc[df['Size'].str.contains('M', na=False)].value_counts().sum()\n",
    "\n",
    "# Find the count of values in the 'Size' column that contain 'k'\n",
    "k_count = df['Size'].loc[df['Size'].str.contains('k', na=False)].value_counts().sum()\n",
    "\n",
    "# Print the results\n",
    "print(f\"Count of values in the 'Size' column that contain 'M': {m_count}\")\n",
    "print(f\"Count of values in the 'Size' column that contain 'k': {k_count}\")\n"
   ]
  },
  {
   "cell_type": "markdown",
   "id": "ec8c2926",
   "metadata": {
    "papermill": {
     "duration": 0.017962,
     "end_time": "2024-10-20T16:05:19.818698",
     "exception": false,
     "start_time": "2024-10-20T16:05:19.800736",
     "status": "completed"
    },
    "tags": []
   },
   "source": [
    "# convert the size column to numeric by multiplying the values with 1024 if it has 'k' in it and 1024*1024 if it has 'M' in it\n",
    "# this function will convert the size column to numeric"
   ]
  },
  {
   "cell_type": "code",
   "execution_count": 14,
   "id": "617efe2b",
   "metadata": {
    "execution": {
     "iopub.execute_input": "2024-10-20T16:05:19.858069Z",
     "iopub.status.busy": "2024-10-20T16:05:19.857066Z",
     "iopub.status.idle": "2024-10-20T16:05:22.441470Z",
     "shell.execute_reply": "2024-10-20T16:05:22.440548Z"
    },
    "papermill": {
     "duration": 2.607348,
     "end_time": "2024-10-20T16:05:22.444276",
     "exception": false,
     "start_time": "2024-10-20T16:05:19.836928",
     "status": "completed"
    },
    "tags": []
   },
   "outputs": [],
   "source": [
    "\n",
    "def convert_size(size):\n",
    "    # add function details here\n",
    "    '''\n",
    "    This function will convert the size column to numeric by multiplying the values with 1024 if it has 'k' in it and 1024*1024 if it has 'M' in it\n",
    "    '''\n",
    "    \n",
    "    if isinstance(size, str):\n",
    "        size = size.replace(',', '')  # Remove commas from the string\n",
    "        if 'k' in size:\n",
    "            return float(size.replace('k', '')) * 1024\n",
    "        elif 'M' in size:\n",
    "            return float(size.replace('M', '')) * 1024 * 1024\n",
    "    return size\n",
    "\n",
    "df['Size'] = df['Size'].apply(convert_size)"
   ]
  },
  {
   "cell_type": "markdown",
   "id": "13b51418",
   "metadata": {
    "papermill": {
     "duration": 0.018255,
     "end_time": "2024-10-20T16:05:22.481065",
     "exception": false,
     "start_time": "2024-10-20T16:05:22.462810",
     "status": "completed"
    },
    "tags": []
   },
   "source": [
    "# rename the column name 'Size' to 'Size_in_bytes'"
   ]
  },
  {
   "cell_type": "code",
   "execution_count": 15,
   "id": "ae5d0f2c",
   "metadata": {
    "execution": {
     "iopub.execute_input": "2024-10-20T16:05:22.519957Z",
     "iopub.status.busy": "2024-10-20T16:05:22.519085Z",
     "iopub.status.idle": "2024-10-20T16:05:24.231681Z",
     "shell.execute_reply": "2024-10-20T16:05:24.230471Z"
    },
    "papermill": {
     "duration": 1.735027,
     "end_time": "2024-10-20T16:05:24.234536",
     "exception": false,
     "start_time": "2024-10-20T16:05:22.499509",
     "status": "completed"
    },
    "tags": []
   },
   "outputs": [],
   "source": [
    "\n",
    "df.rename(columns={'Size': 'Size_in_bytes'}, inplace=True)\n",
    "\n",
    "# Convert 'Size_in_bytes' column to numeric\n",
    "df['Size_in_bytes'] = pd.to_numeric(df['Size_in_bytes'], errors='coerce')\n",
    "\n",
    "# Create a new column 'Size_in_Mb' with size in MB\n",
    "df['Size_in_Mb'] = df['Size_in_bytes'] / (1024 * 1024)\n",
    "\n",
    "# making a new column called 'Size in Mb' which will have the size in MB\n",
    "df['Size_in_Mb'] = df['Size_in_bytes'].apply(lambda x: x/(1024*1024))"
   ]
  },
  {
   "cell_type": "markdown",
   "id": "aeb22978",
   "metadata": {
    "papermill": {
     "duration": 0.018003,
     "end_time": "2024-10-20T16:05:24.271041",
     "exception": false,
     "start_time": "2024-10-20T16:05:24.253038",
     "status": "completed"
    },
    "tags": []
   },
   "source": [
    "# Get the unique values from the 'Installs' column of the DataFrame 'df'"
   ]
  },
  {
   "cell_type": "code",
   "execution_count": 16,
   "id": "ab59cb39",
   "metadata": {
    "execution": {
     "iopub.execute_input": "2024-10-20T16:05:24.309452Z",
     "iopub.status.busy": "2024-10-20T16:05:24.309048Z",
     "iopub.status.idle": "2024-10-20T16:05:24.524270Z",
     "shell.execute_reply": "2024-10-20T16:05:24.523254Z"
    },
    "papermill": {
     "duration": 0.237334,
     "end_time": "2024-10-20T16:05:24.526604",
     "exception": false,
     "start_time": "2024-10-20T16:05:24.289270",
     "status": "completed"
    },
    "tags": []
   },
   "outputs": [
    {
     "data": {
      "text/plain": [
       "array(['10+', '5,000+', '50+', '100+', '1,000+', '500+', '50,000+',\n",
       "       '10,000+', '1+', '500,000+', '100,000+', '5+', '10,000,000+',\n",
       "       '1,000,000+', '5,000,000+', '0+', '100,000,000+', nan,\n",
       "       '50,000,000+', '1,000,000,000+', '500,000,000+', '5,000,000,000+',\n",
       "       '10,000,000,000+'], dtype=object)"
      ]
     },
     "execution_count": 16,
     "metadata": {},
     "output_type": "execute_result"
    }
   ],
   "source": [
    "df['Installs'].unique()"
   ]
  },
  {
   "cell_type": "markdown",
   "id": "c7289184",
   "metadata": {
    "papermill": {
     "duration": 0.018234,
     "end_time": "2024-10-20T16:05:24.563387",
     "exception": false,
     "start_time": "2024-10-20T16:05:24.545153",
     "status": "completed"
    },
    "tags": []
   },
   "source": [
    "# Calculate the number of missing values in the 'Installs' column of the DataFrame 'df'"
   ]
  },
  {
   "cell_type": "code",
   "execution_count": 17,
   "id": "c48a3c5c",
   "metadata": {
    "execution": {
     "iopub.execute_input": "2024-10-20T16:05:24.603062Z",
     "iopub.status.busy": "2024-10-20T16:05:24.602173Z",
     "iopub.status.idle": "2024-10-20T16:05:24.848585Z",
     "shell.execute_reply": "2024-10-20T16:05:24.847368Z"
    },
    "papermill": {
     "duration": 0.269035,
     "end_time": "2024-10-20T16:05:24.850934",
     "exception": false,
     "start_time": "2024-10-20T16:05:24.581899",
     "status": "completed"
    },
    "tags": []
   },
   "outputs": [
    {
     "data": {
      "text/plain": [
       "107"
      ]
     },
     "execution_count": 17,
     "metadata": {},
     "output_type": "execute_result"
    }
   ],
   "source": [
    "df['Installs'].isnull().sum()"
   ]
  },
  {
   "cell_type": "markdown",
   "id": "2baa2738",
   "metadata": {
    "papermill": {
     "duration": 0.018365,
     "end_time": "2024-10-20T16:05:24.888070",
     "exception": false,
     "start_time": "2024-10-20T16:05:24.869705",
     "status": "completed"
    },
    "tags": []
   },
   "source": [
    "# drop the missing values from size column"
   ]
  },
  {
   "cell_type": "code",
   "execution_count": 18,
   "id": "47f18002",
   "metadata": {
    "execution": {
     "iopub.execute_input": "2024-10-20T16:05:24.927763Z",
     "iopub.status.busy": "2024-10-20T16:05:24.927039Z",
     "iopub.status.idle": "2024-10-20T16:05:25.805715Z",
     "shell.execute_reply": "2024-10-20T16:05:25.804437Z"
    },
    "papermill": {
     "duration": 0.901814,
     "end_time": "2024-10-20T16:05:25.808595",
     "exception": false,
     "start_time": "2024-10-20T16:05:24.906781",
     "status": "completed"
    },
    "tags": []
   },
   "outputs": [],
   "source": [
    "\n",
    "df = df.dropna(subset=['Installs'])"
   ]
  },
  {
   "cell_type": "markdown",
   "id": "7c02e2f5",
   "metadata": {
    "papermill": {
     "duration": 0.01855,
     "end_time": "2024-10-20T16:05:25.847154",
     "exception": false,
     "start_time": "2024-10-20T16:05:25.828604",
     "status": "completed"
    },
    "tags": []
   },
   "source": [
    "# Let's check how many values has '+' in it"
   ]
  },
  {
   "cell_type": "code",
   "execution_count": 19,
   "id": "3ab8ec4a",
   "metadata": {
    "execution": {
     "iopub.execute_input": "2024-10-20T16:05:25.888635Z",
     "iopub.status.busy": "2024-10-20T16:05:25.887760Z",
     "iopub.status.idle": "2024-10-20T16:05:27.641172Z",
     "shell.execute_reply": "2024-10-20T16:05:27.639972Z"
    },
    "papermill": {
     "duration": 1.777266,
     "end_time": "2024-10-20T16:05:27.644339",
     "exception": false,
     "start_time": "2024-10-20T16:05:25.867073",
     "status": "completed"
    },
    "tags": []
   },
   "outputs": [
    {
     "data": {
      "text/plain": [
       "2312837"
      ]
     },
     "execution_count": 19,
     "metadata": {},
     "output_type": "execute_result"
    }
   ],
   "source": [
    "# Let's check how many values has '+' in it\n",
    "df['Installs'].loc[df['Installs'].str.contains('\\+')].value_counts().sum()"
   ]
  },
  {
   "cell_type": "markdown",
   "id": "61daf938",
   "metadata": {
    "papermill": {
     "duration": 0.019221,
     "end_time": "2024-10-20T16:05:27.683210",
     "exception": false,
     "start_time": "2024-10-20T16:05:27.663989",
     "status": "completed"
    },
    "tags": []
   },
   "source": [
    "## The code transforms the 'Installs' column from a string format with symbols and punctuation to a clean, numeric format, enabling accurate data analysis and manipulation."
   ]
  },
  {
   "cell_type": "code",
   "execution_count": 20,
   "id": "a02cccc4",
   "metadata": {
    "execution": {
     "iopub.execute_input": "2024-10-20T16:05:27.722999Z",
     "iopub.status.busy": "2024-10-20T16:05:27.722526Z",
     "iopub.status.idle": "2024-10-20T16:05:32.520106Z",
     "shell.execute_reply": "2024-10-20T16:05:32.518823Z"
    },
    "papermill": {
     "duration": 4.820912,
     "end_time": "2024-10-20T16:05:32.522956",
     "exception": false,
     "start_time": "2024-10-20T16:05:27.702044",
     "status": "completed"
    },
    "tags": []
   },
   "outputs": [],
   "source": [
    "# remove the plus sign from install column and convert it to numeric\n",
    "df['Installs'] = df['Installs'].apply(lambda x: x.replace('+', '') if '+' in str(x) else x)\n",
    "# also remove the commas from the install column\n",
    "df['Installs'] = df['Installs'].apply(lambda x: x.replace(',', '') if ',' in str(x) else x)\n",
    "# convert the install column to numeric (integers because this is the number of installs/count)\n",
    "df['Installs'] = df['Installs'].apply(lambda x: int(x))"
   ]
  },
  {
   "cell_type": "markdown",
   "id": "8a2ff761",
   "metadata": {
    "papermill": {
     "duration": 0.018461,
     "end_time": "2024-10-20T16:05:32.560287",
     "exception": false,
     "start_time": "2024-10-20T16:05:32.541826",
     "status": "completed"
    },
    "tags": []
   },
   "source": [
    "## This line of code calculates the total number of missing (null) values in each column of the DataFrame 'df'.\n",
    "## It then sorts the columns in descending order based on the count of missing values."
   ]
  },
  {
   "cell_type": "code",
   "execution_count": 21,
   "id": "be6050d8",
   "metadata": {
    "execution": {
     "iopub.execute_input": "2024-10-20T16:05:32.599864Z",
     "iopub.status.busy": "2024-10-20T16:05:32.599398Z",
     "iopub.status.idle": "2024-10-20T16:05:35.569588Z",
     "shell.execute_reply": "2024-10-20T16:05:35.568040Z"
    },
    "papermill": {
     "duration": 2.993952,
     "end_time": "2024-10-20T16:05:35.573091",
     "exception": false,
     "start_time": "2024-10-20T16:05:32.579139",
     "status": "completed"
    },
    "tags": []
   },
   "outputs": [
    {
     "data": {
      "text/plain": [
       "Developer Website    760806\n",
       "Privacy Policy       420933\n",
       "Size_in_Mb            74918\n",
       "Size_in_bytes         74918\n",
       "Released              70953\n",
       "Rating                22776\n",
       "Rating Count          22776\n",
       "Minimum Android        6530\n",
       "Developer Id             33\n",
       "Developer Email          31\n",
       "Currency                 28\n",
       "App Name                  5\n",
       "Free                      0\n",
       "Price                     0\n",
       "Maximum Installs          0\n",
       "App Id                    0\n",
       "Minimum Installs          0\n",
       "Installs                  0\n",
       "Last Updated              0\n",
       "Content Rating            0\n",
       "Category                  0\n",
       "Ad Supported              0\n",
       "In App Purchases          0\n",
       "Editors Choice            0\n",
       "dtype: int64"
      ]
     },
     "execution_count": 21,
     "metadata": {},
     "output_type": "execute_result"
    }
   ],
   "source": [
    "df.isnull().sum().sort_values(ascending=False)"
   ]
  },
  {
   "cell_type": "markdown",
   "id": "2058a5f8",
   "metadata": {
    "papermill": {
     "duration": 0.026466,
     "end_time": "2024-10-20T16:05:35.625376",
     "exception": false,
     "start_time": "2024-10-20T16:05:35.598910",
     "status": "completed"
    },
    "tags": []
   },
   "source": [
    "# This line of code calculates the total number of missing (null) values in each column in percentage of the DataFrame 'df'.\n",
    "# It then sorts the columns in descending order based on the count of missing values."
   ]
  },
  {
   "cell_type": "code",
   "execution_count": 22,
   "id": "98938f8a",
   "metadata": {
    "execution": {
     "iopub.execute_input": "2024-10-20T16:05:35.665743Z",
     "iopub.status.busy": "2024-10-20T16:05:35.665314Z",
     "iopub.status.idle": "2024-10-20T16:05:38.689206Z",
     "shell.execute_reply": "2024-10-20T16:05:38.688038Z"
    },
    "papermill": {
     "duration": 3.047283,
     "end_time": "2024-10-20T16:05:38.692051",
     "exception": false,
     "start_time": "2024-10-20T16:05:35.644768",
     "status": "completed"
    },
    "tags": []
   },
   "outputs": [
    {
     "data": {
      "text/plain": [
       "Developer Website    32.894925\n",
       "Privacy Policy       18.199856\n",
       "Size_in_Mb            3.239225\n",
       "Size_in_bytes         3.239225\n",
       "Released              3.067791\n",
       "Rating                0.984765\n",
       "Rating Count          0.984765\n",
       "Minimum Android       0.282337\n",
       "Developer Id          0.001427\n",
       "Developer Email       0.001340\n",
       "Currency              0.001211\n",
       "App Name              0.000216\n",
       "Free                  0.000000\n",
       "Price                 0.000000\n",
       "Maximum Installs      0.000000\n",
       "App Id                0.000000\n",
       "Minimum Installs      0.000000\n",
       "Installs              0.000000\n",
       "Last Updated          0.000000\n",
       "Content Rating        0.000000\n",
       "Category              0.000000\n",
       "Ad Supported          0.000000\n",
       "In App Purchases      0.000000\n",
       "Editors Choice        0.000000\n",
       "dtype: float64"
      ]
     },
     "execution_count": 22,
     "metadata": {},
     "output_type": "execute_result"
    }
   ],
   "source": [
    "# check the missing values percentage\n",
    "(df.isnull().sum() / len(df) * 100).sort_values(ascending=False)"
   ]
  },
  {
   "cell_type": "markdown",
   "id": "443aa4c7",
   "metadata": {
    "papermill": {
     "duration": 0.019477,
     "end_time": "2024-10-20T16:05:38.731221",
     "exception": false,
     "start_time": "2024-10-20T16:05:38.711744",
     "status": "completed"
    },
    "tags": []
   },
   "source": [
    "### Set the figure size for the plot to ensure it is wide enough for clear visualization.\n",
    "### Create a heatmap to visualize the missing values in each column of the DataFrame 'df'.\n",
    "### The yticklabels are turned off for a cleaner look, and the color bar is disabled as it is not needed.\n",
    "### The 'viridis' colormap is used to represent the presence (yellow) and absence (purple) of null values."
   ]
  },
  {
   "cell_type": "code",
   "execution_count": 23,
   "id": "dbd0cba9",
   "metadata": {
    "execution": {
     "iopub.execute_input": "2024-10-20T16:05:38.772784Z",
     "iopub.status.busy": "2024-10-20T16:05:38.772263Z",
     "iopub.status.idle": "2024-10-20T16:06:58.382839Z",
     "shell.execute_reply": "2024-10-20T16:06:58.381762Z"
    },
    "papermill": {
     "duration": 79.655934,
     "end_time": "2024-10-20T16:06:58.406628",
     "exception": false,
     "start_time": "2024-10-20T16:05:38.750694",
     "status": "completed"
    },
    "tags": []
   },
   "outputs": [
    {
     "data": {
      "text/plain": [
       "<Axes: >"
      ]
     },
     "execution_count": 23,
     "metadata": {},
     "output_type": "execute_result"
    },
    {
     "data": {
      "image/png": "[encoded data removed]",
      "text/plain": [
       "<Figure size 1600x600 with 1 Axes>"
      ]
     },
     "metadata": {},
     "output_type": "display_data"
    }
   ],
   "source": [
    "# make a figure size\n",
    "plt.figure(figsize=(16, 6))\n",
    "#plot the null values in each column\n",
    "sns.heatmap(df.isnull(), yticklabels=False, cbar=False, cmap='viridis')"
   ]
  },
  {
   "cell_type": "code",
   "execution_count": 24,
   "id": "e584b3d3",
   "metadata": {
    "execution": {
     "iopub.execute_input": "2024-10-20T16:06:58.450345Z",
     "iopub.status.busy": "2024-10-20T16:06:58.449918Z",
     "iopub.status.idle": "2024-10-20T16:07:01.993298Z",
     "shell.execute_reply": "2024-10-20T16:07:01.991968Z"
    },
    "papermill": {
     "duration": 3.568539,
     "end_time": "2024-10-20T16:07:01.995906",
     "exception": false,
     "start_time": "2024-10-20T16:06:58.427367",
     "status": "completed"
    },
    "tags": []
   },
   "outputs": [
    {
     "name": "stdout",
     "output_type": "stream",
     "text": [
      "Length of the dataframe before removing null values: 2312837\n",
      "Length of the dataframe after removing null values: 1250858\n"
     ]
    }
   ],
   "source": [
    "# length before removing null values\n",
    "print(f\"Length of the dataframe before removing null values: {len(df)}\")\n",
    "\n",
    "# remove the rows having null values in  column `Size_in_Mb`, `Size_in_bytes`, `Released `, `Rating`, `Rating Count`, `Minimum Android`, `Developer Id`, `Developer Email`, `Currency` and `App Name`\n",
    "df.dropna(subset=['Size_in_Mb', 'Size_in_bytes', 'Released', 'Rating', 'Rating Count', 'Minimum Android', 'Developer Id', 'Developer Email', 'Currency', 'App Name'], inplace=True)\n",
    "\n",
    "# Also remove null values of `Developer Website`, `Privacy Policy`\n",
    "df.dropna(subset=['Developer Website', 'Privacy Policy'], inplace=True)\n",
    "# length after removing null values\n",
    "print(f\"Length of the dataframe after removing null values: {len(df)}\")"
   ]
  },
  {
   "cell_type": "markdown",
   "id": "7a59da3d",
   "metadata": {
    "papermill": {
     "duration": 0.020839,
     "end_time": "2024-10-20T16:07:02.038520",
     "exception": false,
     "start_time": "2024-10-20T16:07:02.017681",
     "status": "completed"
    },
    "tags": []
   },
   "source": [
    "## # Let's check the null values again"
   ]
  },
  {
   "cell_type": "code",
   "execution_count": 25,
   "id": "421fae62",
   "metadata": {
    "execution": {
     "iopub.execute_input": "2024-10-20T16:07:02.081500Z",
     "iopub.status.busy": "2024-10-20T16:07:02.081031Z",
     "iopub.status.idle": "2024-10-20T16:07:03.759158Z",
     "shell.execute_reply": "2024-10-20T16:07:03.757589Z"
    },
    "papermill": {
     "duration": 1.702916,
     "end_time": "2024-10-20T16:07:03.762092",
     "exception": false,
     "start_time": "2024-10-20T16:07:02.059176",
     "status": "completed"
    },
    "tags": []
   },
   "outputs": [
    {
     "data": {
      "text/plain": [
       "App Name             0\n",
       "App Id               0\n",
       "Editors Choice       0\n",
       "In App Purchases     0\n",
       "Ad Supported         0\n",
       "Privacy Policy       0\n",
       "Content Rating       0\n",
       "Last Updated         0\n",
       "Released             0\n",
       "Developer Email      0\n",
       "Developer Website    0\n",
       "Developer Id         0\n",
       "Minimum Android      0\n",
       "Size_in_bytes        0\n",
       "Currency             0\n",
       "Price                0\n",
       "Free                 0\n",
       "Maximum Installs     0\n",
       "Minimum Installs     0\n",
       "Installs             0\n",
       "Rating Count         0\n",
       "Rating               0\n",
       "Category             0\n",
       "Size_in_Mb           0\n",
       "dtype: int64"
      ]
     },
     "execution_count": 25,
     "metadata": {},
     "output_type": "execute_result"
    }
   ],
   "source": [
    "\n",
    "df.isnull().sum().sort_values(ascending=False)"
   ]
  },
  {
   "cell_type": "code",
   "execution_count": 26,
   "id": "ab2810a1",
   "metadata": {
    "execution": {
     "iopub.execute_input": "2024-10-20T16:07:03.806187Z",
     "iopub.status.busy": "2024-10-20T16:07:03.805324Z",
     "iopub.status.idle": "2024-10-20T16:07:04.278162Z",
     "shell.execute_reply": "2024-10-20T16:07:04.276902Z"
    },
    "papermill": {
     "duration": 0.497894,
     "end_time": "2024-10-20T16:07:04.280965",
     "exception": false,
     "start_time": "2024-10-20T16:07:03.783071",
     "status": "completed"
    },
    "tags": []
   },
   "outputs": [
    {
     "data": {
      "text/html": [
       "<div>\n",
       "<style scoped>\n",
       "    .dataframe tbody tr th:only-of-type {\n",
       "        vertical-align: middle;\n",
       "    }\n",
       "\n",
       "    .dataframe tbody tr th {\n",
       "        vertical-align: top;\n",
       "    }\n",
       "\n",
       "    .dataframe thead th {\n",
       "        text-align: right;\n",
       "    }\n",
       "</style>\n",
       "<table border=\"1\" class=\"dataframe\">\n",
       "  <thead>\n",
       "    <tr style=\"text-align: right;\">\n",
       "      <th></th>\n",
       "      <th>Rating</th>\n",
       "      <th>Rating Count</th>\n",
       "      <th>Installs</th>\n",
       "      <th>Minimum Installs</th>\n",
       "      <th>Maximum Installs</th>\n",
       "      <th>Price</th>\n",
       "      <th>Size_in_bytes</th>\n",
       "      <th>Size_in_Mb</th>\n",
       "    </tr>\n",
       "  </thead>\n",
       "  <tbody>\n",
       "    <tr>\n",
       "      <th>count</th>\n",
       "      <td>1.250858e+06</td>\n",
       "      <td>1.250858e+06</td>\n",
       "      <td>1.250858e+06</td>\n",
       "      <td>1.250858e+06</td>\n",
       "      <td>1.250858e+06</td>\n",
       "      <td>1.250858e+06</td>\n",
       "      <td>1.250858e+06</td>\n",
       "      <td>1.250858e+06</td>\n",
       "    </tr>\n",
       "    <tr>\n",
       "      <th>mean</th>\n",
       "      <td>2.292466e+00</td>\n",
       "      <td>3.192315e+03</td>\n",
       "      <td>1.615981e+05</td>\n",
       "      <td>1.615981e+05</td>\n",
       "      <td>2.874167e+05</td>\n",
       "      <td>1.069761e-01</td>\n",
       "      <td>2.247364e+07</td>\n",
       "      <td>2.143254e+01</td>\n",
       "    </tr>\n",
       "    <tr>\n",
       "      <th>std</th>\n",
       "      <td>2.094202e+00</td>\n",
       "      <td>1.158726e+05</td>\n",
       "      <td>4.191153e+06</td>\n",
       "      <td>4.191153e+06</td>\n",
       "      <td>6.761434e+06</td>\n",
       "      <td>2.426063e+00</td>\n",
       "      <td>2.680330e+07</td>\n",
       "      <td>2.556162e+01</td>\n",
       "    </tr>\n",
       "    <tr>\n",
       "      <th>min</th>\n",
       "      <td>0.000000e+00</td>\n",
       "      <td>0.000000e+00</td>\n",
       "      <td>0.000000e+00</td>\n",
       "      <td>0.000000e+00</td>\n",
       "      <td>0.000000e+00</td>\n",
       "      <td>0.000000e+00</td>\n",
       "      <td>3.379200e+03</td>\n",
       "      <td>3.222656e-03</td>\n",
       "    </tr>\n",
       "    <tr>\n",
       "      <th>25%</th>\n",
       "      <td>0.000000e+00</td>\n",
       "      <td>0.000000e+00</td>\n",
       "      <td>1.000000e+02</td>\n",
       "      <td>1.000000e+02</td>\n",
       "      <td>1.110000e+02</td>\n",
       "      <td>0.000000e+00</td>\n",
       "      <td>6.081741e+06</td>\n",
       "      <td>5.800000e+00</td>\n",
       "    </tr>\n",
       "    <tr>\n",
       "      <th>50%</th>\n",
       "      <td>3.200000e+00</td>\n",
       "      <td>7.000000e+00</td>\n",
       "      <td>5.000000e+02</td>\n",
       "      <td>5.000000e+02</td>\n",
       "      <td>8.980000e+02</td>\n",
       "      <td>0.000000e+00</td>\n",
       "      <td>1.258291e+07</td>\n",
       "      <td>1.200000e+01</td>\n",
       "    </tr>\n",
       "    <tr>\n",
       "      <th>75%</th>\n",
       "      <td>4.300000e+00</td>\n",
       "      <td>5.600000e+01</td>\n",
       "      <td>5.000000e+03</td>\n",
       "      <td>5.000000e+03</td>\n",
       "      <td>9.946000e+03</td>\n",
       "      <td>0.000000e+00</td>\n",
       "      <td>2.936013e+07</td>\n",
       "      <td>2.800000e+01</td>\n",
       "    </tr>\n",
       "    <tr>\n",
       "      <th>max</th>\n",
       "      <td>5.000000e+00</td>\n",
       "      <td>5.602542e+07</td>\n",
       "      <td>1.000000e+09</td>\n",
       "      <td>1.000000e+09</td>\n",
       "      <td>1.704496e+09</td>\n",
       "      <td>4.000000e+02</td>\n",
       "      <td>1.069548e+09</td>\n",
       "      <td>1.020000e+03</td>\n",
       "    </tr>\n",
       "  </tbody>\n",
       "</table>\n",
       "</div>"
      ],
      "text/plain": [
       "             Rating  Rating Count      Installs  Minimum Installs  \\\n",
       "count  1.250858e+06  1.250858e+06  1.250858e+06      1.250858e+06   \n",
       "mean   2.292466e+00  3.192315e+03  1.615981e+05      1.615981e+05   \n",
       "std    2.094202e+00  1.158726e+05  4.191153e+06      4.191153e+06   \n",
       "min    0.000000e+00  0.000000e+00  0.000000e+00      0.000000e+00   \n",
       "25%    0.000000e+00  0.000000e+00  1.000000e+02      1.000000e+02   \n",
       "50%    3.200000e+00  7.000000e+00  5.000000e+02      5.000000e+02   \n",
       "75%    4.300000e+00  5.600000e+01  5.000000e+03      5.000000e+03   \n",
       "max    5.000000e+00  5.602542e+07  1.000000e+09      1.000000e+09   \n",
       "\n",
       "       Maximum Installs         Price  Size_in_bytes    Size_in_Mb  \n",
       "count      1.250858e+06  1.250858e+06   1.250858e+06  1.250858e+06  \n",
       "mean       2.874167e+05  1.069761e-01   2.247364e+07  2.143254e+01  \n",
       "std        6.761434e+06  2.426063e+00   2.680330e+07  2.556162e+01  \n",
       "min        0.000000e+00  0.000000e+00   3.379200e+03  3.222656e-03  \n",
       "25%        1.110000e+02  0.000000e+00   6.081741e+06  5.800000e+00  \n",
       "50%        8.980000e+02  0.000000e+00   1.258291e+07  1.200000e+01  \n",
       "75%        9.946000e+03  0.000000e+00   2.936013e+07  2.800000e+01  \n",
       "max        1.704496e+09  4.000000e+02   1.069548e+09  1.020000e+03  "
      ]
     },
     "execution_count": 26,
     "metadata": {},
     "output_type": "execute_result"
    }
   ],
   "source": [
    "df.describe()"
   ]
  },
  {
   "cell_type": "markdown",
   "id": "254022b7",
   "metadata": {
    "papermill": {
     "duration": 0.020814,
     "end_time": "2024-10-20T16:07:04.323113",
     "exception": false,
     "start_time": "2024-10-20T16:07:04.302299",
     "status": "completed"
    },
    "tags": []
   },
   "source": [
    "### Define a list of numeric columns from the DataFrame 'df' that will be used to compute the correlation matrix.\n",
    "### Create a heatmap to visualize the correlation matrix of the specified numeric columns.\n",
    "### The 'annot=True' parameter adds numerical annotations to each cell in the heatmap."
   ]
  },
  {
   "cell_type": "code",
   "execution_count": 27,
   "id": "b26c4e2b",
   "metadata": {
    "execution": {
     "iopub.execute_input": "2024-10-20T16:07:04.367009Z",
     "iopub.status.busy": "2024-10-20T16:07:04.366585Z",
     "iopub.status.idle": "2024-10-20T16:07:05.279417Z",
     "shell.execute_reply": "2024-10-20T16:07:05.278185Z"
    },
    "papermill": {
     "duration": 0.938264,
     "end_time": "2024-10-20T16:07:05.282389",
     "exception": false,
     "start_time": "2024-10-20T16:07:04.344125",
     "status": "completed"
    },
    "tags": []
   },
   "outputs": [
    {
     "data": {
      "text/plain": [
       "<Axes: >"
      ]
     },
     "execution_count": 27,
     "metadata": {},
     "output_type": "execute_result"
    },
    {
     "data": {
      "image/png": "[encoded data removed]",
      "text/plain": [
       "<Figure size 1600x1000 with 2 Axes>"
      ]
     },
     "metadata": {},
     "output_type": "display_data"
    }
   ],
   "source": [
    "# Make a correlation matrix of numeric columns\n",
    "plt.figure(figsize=(16, 10)) # make figure size  \n",
    "numeric_cols = ['Rating', 'Rating Count', 'Size_in_bytes', 'Installs', 'Minimum Installs', 'Maximum Installs', 'Price', 'Size_in_Mb'] # make a list of numeric columns\n",
    "sns.heatmap(df[numeric_cols].corr(), annot=True) # plot the correlation matrix"
   ]
  },
  {
   "cell_type": "markdown",
   "id": "2d8f7698",
   "metadata": {
    "papermill": {
     "duration": 0.022227,
     "end_time": "2024-10-20T16:07:05.327395",
     "exception": false,
     "start_time": "2024-10-20T16:07:05.305168",
     "status": "completed"
    },
    "tags": []
   },
   "source": [
    "### check the outliers if exist display in box plot"
   ]
  },
  {
   "cell_type": "code",
   "execution_count": 28,
   "id": "64d687f0",
   "metadata": {
    "execution": {
     "iopub.execute_input": "2024-10-20T16:07:05.374153Z",
     "iopub.status.busy": "2024-10-20T16:07:05.373711Z",
     "iopub.status.idle": "2024-10-20T16:07:09.102936Z",
     "shell.execute_reply": "2024-10-20T16:07:09.101520Z"
    },
    "papermill": {
     "duration": 3.756635,
     "end_time": "2024-10-20T16:07:09.106336",
     "exception": false,
     "start_time": "2024-10-20T16:07:05.349701",
     "status": "completed"
    },
    "tags": []
   },
   "outputs": [
    {
     "data": {
      "image/png": "[encoded data removed]",
      "text/plain": [
       "<Figure size 1500x600 with 1 Axes>"
      ]
     },
     "metadata": {},
     "output_type": "display_data"
    },
    {
     "data": {
      "image/png": "[encoded data removed]",
      "text/plain": [
       "<Figure size 1500x600 with 1 Axes>"
      ]
     },
     "metadata": {},
     "output_type": "display_data"
    },
    {
     "data": {
      "image/png": "[encoded data removed]",
      "text/plain": [
       "<Figure size 1500x600 with 1 Axes>"
      ]
     },
     "metadata": {},
     "output_type": "display_data"
    },
    {
     "data": {
      "image/png": "[encoded data removed]",
      "text/plain": [
       "<Figure size 1500x600 with 1 Axes>"
      ]
     },
     "metadata": {},
     "output_type": "display_data"
    },
    {
     "data": {
      "image/png": "[encoded data removed]",
      "text/plain": [
       "<Figure size 1500x600 with 1 Axes>"
      ]
     },
     "metadata": {},
     "output_type": "display_data"
    },
    {
     "data": {
      "image/png": "[encoded data removed]",
      "text/plain": [
       "<Figure size 1500x600 with 1 Axes>"
      ]
     },
     "metadata": {},
     "output_type": "display_data"
    },
    {
     "data": {
      "image/png": "[encoded data removed]",
      "text/plain": [
       "<Figure size 1500x600 with 1 Axes>"
      ]
     },
     "metadata": {},
     "output_type": "display_data"
    },
    {
     "data": {
      "image/png": "[encoded data removed]",
      "text/plain": [
       "<Figure size 1500x600 with 1 Axes>"
      ]
     },
     "metadata": {},
     "output_type": "display_data"
    }
   ],
   "source": [
    "# Select the numerical columns to check for outliers\n",
    "numerical_columns = ['Rating', 'Rating Count', 'Installs', 'Minimum Installs', 'Maximum Installs', 'Price', 'Size_in_bytes', 'Size_in_Mb']\n",
    "\n",
    "# Generate box plots for each numerical column\n",
    "for column in numerical_columns:\n",
    "    plt.figure(figsize=(15, 6))\n",
    "    sns.boxplot(x=df[column])\n",
    "    plt.title(f'Box plot of {column}')\n",
    "    plt.xticks(rotation=0)\n",
    "    plt.show()"
   ]
  },
  {
   "cell_type": "markdown",
   "id": "dd22a653",
   "metadata": {
    "papermill": {
     "duration": 0.026428,
     "end_time": "2024-10-20T16:07:09.160063",
     "exception": false,
     "start_time": "2024-10-20T16:07:09.133635",
     "status": "completed"
    },
    "tags": []
   },
   "source": [
    "###  Top 10 categories that has highest number of apps"
   ]
  },
  {
   "cell_type": "code",
   "execution_count": 29,
   "id": "602adbe0",
   "metadata": {
    "execution": {
     "iopub.execute_input": "2024-10-20T16:07:09.213097Z",
     "iopub.status.busy": "2024-10-20T16:07:09.212678Z",
     "iopub.status.idle": "2024-10-20T16:07:09.453045Z",
     "shell.execute_reply": "2024-10-20T16:07:09.451556Z"
    },
    "papermill": {
     "duration": 0.269869,
     "end_time": "2024-10-20T16:07:09.455640",
     "exception": false,
     "start_time": "2024-10-20T16:07:09.185771",
     "status": "completed"
    },
    "tags": []
   },
   "outputs": [
    {
     "data": {
      "text/plain": [
       "Category\n",
       "Education            123772\n",
       "Business              97744\n",
       "Music & Audio         85739\n",
       "Lifestyle             73591\n",
       "Tools                 65156\n",
       "Entertainment         61992\n",
       "Books & Reference     55605\n",
       "Health & Fitness      50682\n",
       "Shopping              48265\n",
       "Productivity          45417\n",
       "Name: count, dtype: int64"
      ]
     },
     "execution_count": 29,
     "metadata": {},
     "output_type": "execute_result"
    }
   ],
   "source": [
    "# Top 10 categories that has highest number of apps\n",
    "df['Category'].value_counts().head(10)"
   ]
  },
  {
   "cell_type": "code",
   "execution_count": 30,
   "id": "107bab0b",
   "metadata": {
    "execution": {
     "iopub.execute_input": "2024-10-20T16:07:09.509510Z",
     "iopub.status.busy": "2024-10-20T16:07:09.509089Z",
     "iopub.status.idle": "2024-10-20T16:07:09.659215Z",
     "shell.execute_reply": "2024-10-20T16:07:09.657965Z"
    },
    "papermill": {
     "duration": 0.180172,
     "end_time": "2024-10-20T16:07:09.662050",
     "exception": false,
     "start_time": "2024-10-20T16:07:09.481878",
     "status": "completed"
    },
    "tags": []
   },
   "outputs": [
    {
     "data": {
      "text/plain": [
       "Category\n",
       "Tools         20537246118\n",
       "Action        13026933288\n",
       "Casual        12935693280\n",
       "Arcade        12161184554\n",
       "Simulation     9022041504\n",
       "Name: Installs, dtype: int64"
      ]
     },
     "execution_count": 30,
     "metadata": {},
     "output_type": "execute_result"
    }
   ],
   "source": [
    "# Top 10 categories that has highest number of installs\n",
    "df.groupby('Category')['Installs'].sum().sort_values(ascending=False).head(5)"
   ]
  },
  {
   "cell_type": "code",
   "execution_count": 31,
   "id": "431a7e1e",
   "metadata": {
    "execution": {
     "iopub.execute_input": "2024-10-20T16:07:09.716316Z",
     "iopub.status.busy": "2024-10-20T16:07:09.715878Z",
     "iopub.status.idle": "2024-10-20T16:07:09.880767Z",
     "shell.execute_reply": "2024-10-20T16:07:09.879673Z"
    },
    "papermill": {
     "duration": 0.194617,
     "end_time": "2024-10-20T16:07:09.883239",
     "exception": false,
     "start_time": "2024-10-20T16:07:09.688622",
     "status": "completed"
    },
    "tags": []
   },
   "outputs": [
    {
     "data": {
      "text/plain": [
       "Category\n",
       "Education            120240\n",
       "Business              97402\n",
       "Music & Audio         84941\n",
       "Lifestyle             72795\n",
       "Tools                 63569\n",
       "Entertainment         61376\n",
       "Books & Reference     53966\n",
       "Health & Fitness      49959\n",
       "Shopping              48213\n",
       "Food & Drink          44958\n",
       "Name: Free, dtype: int64"
      ]
     },
     "execution_count": 31,
     "metadata": {},
     "output_type": "execute_result"
    }
   ],
   "source": [
    "# Top 10 categories that has highest number of Free Apps\n",
    "df.groupby('Category')['Free'].sum().sort_values(ascending=False).head(10)"
   ]
  },
  {
   "cell_type": "code",
   "execution_count": 32,
   "id": "8ac24850",
   "metadata": {
    "execution": {
     "iopub.execute_input": "2024-10-20T16:07:09.937518Z",
     "iopub.status.busy": "2024-10-20T16:07:09.937042Z",
     "iopub.status.idle": "2024-10-20T16:07:10.090432Z",
     "shell.execute_reply": "2024-10-20T16:07:10.089274Z"
    },
    "papermill": {
     "duration": 0.183693,
     "end_time": "2024-10-20T16:07:10.093065",
     "exception": false,
     "start_time": "2024-10-20T16:07:09.909372",
     "status": "completed"
    },
    "tags": []
   },
   "outputs": [
    {
     "data": {
      "text/plain": [
       "Category\n",
       "Education            23757.805556\n",
       "Medical              18577.331288\n",
       "Books & Reference    11856.782320\n",
       "Tools                 8635.574104\n",
       "Productivity          6543.195776\n",
       "Lifestyle             5498.066415\n",
       "Sports                5487.606401\n",
       "Business              4477.460000\n",
       "Music & Audio         3967.462598\n",
       "Health & Fitness      3738.484678\n",
       "Name: Price, dtype: float64"
      ]
     },
     "execution_count": 32,
     "metadata": {},
     "output_type": "execute_result"
    }
   ],
   "source": [
    "# Top 10 categories that has highest number of Paid apps\n",
    "df.groupby('Category')['Price'].sum().sort_values(ascending=False).head(10)"
   ]
  },
  {
   "cell_type": "code",
   "execution_count": 33,
   "id": "a066aa51",
   "metadata": {
    "execution": {
     "iopub.execute_input": "2024-10-20T16:07:10.149378Z",
     "iopub.status.busy": "2024-10-20T16:07:10.148933Z",
     "iopub.status.idle": "2024-10-20T16:07:15.015820Z",
     "shell.execute_reply": "2024-10-20T16:07:15.014703Z"
    },
    "papermill": {
     "duration": 4.898139,
     "end_time": "2024-10-20T16:07:15.018327",
     "exception": false,
     "start_time": "2024-10-20T16:07:10.120188",
     "status": "completed"
    },
    "tags": []
   },
   "outputs": [
    {
     "data": {
      "text/plain": [
       "App Name\n",
       "Flashlight        119\n",
       "Tic Tac Toe        84\n",
       "Sudoku             84\n",
       "Solitaire          81\n",
       "Age Calculator     69\n",
       "Word Search        64\n",
       "Music Player       60\n",
       "BMI Calculator     57\n",
       "Gallery            57\n",
       "Unit Converter     56\n",
       "Name: Free, dtype: int64"
      ]
     },
     "execution_count": 33,
     "metadata": {},
     "output_type": "execute_result"
    }
   ],
   "source": [
    "# Top 10 Apps that has highest number of free apps\n",
    "df.groupby('App Name')['Free'].sum().sort_values(ascending=False).head(10)"
   ]
  },
  {
   "cell_type": "code",
   "execution_count": 34,
   "id": "c68915d5",
   "metadata": {
    "execution": {
     "iopub.execute_input": "2024-10-20T16:07:15.074625Z",
     "iopub.status.busy": "2024-10-20T16:07:15.074155Z",
     "iopub.status.idle": "2024-10-20T16:07:19.860068Z",
     "shell.execute_reply": "2024-10-20T16:07:19.858761Z"
    },
    "papermill": {
     "duration": 4.817728,
     "end_time": "2024-10-20T16:07:19.862860",
     "exception": false,
     "start_time": "2024-10-20T16:07:15.045132",
     "status": "completed"
    },
    "tags": []
   },
   "outputs": [
    {
     "data": {
      "text/plain": [
       "App Name\n",
       "MESH Connect                        400.00\n",
       "Nu Media TV Live                    399.99\n",
       "Series Addict Pro - TV Guide        399.99\n",
       "RichWall                            399.99\n",
       "AudD                                399.99\n",
       "Report Form Pro Nitro               399.99\n",
       "Youmeunit PRO — ver.4U4M34353RY1    399.99\n",
       "Most expensive word game            399.99\n",
       "Happiness                           389.99\n",
       "JAVAD Mobile Tools                  389.99\n",
       "Name: Price, dtype: float64"
      ]
     },
     "execution_count": 34,
     "metadata": {},
     "output_type": "execute_result"
    }
   ],
   "source": [
    "# Top 10 Apps that has highest number of paid apps\n",
    "df.groupby('App Name')['Price'].sum().sort_values(ascending=False).head(10)"
   ]
  },
  {
   "cell_type": "code",
   "execution_count": 35,
   "id": "b8fc25c8",
   "metadata": {
    "execution": {
     "iopub.execute_input": "2024-10-20T16:07:19.919052Z",
     "iopub.status.busy": "2024-10-20T16:07:19.918636Z",
     "iopub.status.idle": "2024-10-20T16:07:20.098116Z",
     "shell.execute_reply": "2024-10-20T16:07:20.096585Z"
    },
    "papermill": {
     "duration": 0.212928,
     "end_time": "2024-10-20T16:07:20.103080",
     "exception": false,
     "start_time": "2024-10-20T16:07:19.890152",
     "status": "completed"
    },
    "tags": []
   },
   "outputs": [
    {
     "name": "stdout",
     "output_type": "stream",
     "text": [
      "Percentage share of 'Free' apps: 98.23%\n",
      "Percentage share of 'Paid' apps: 1.77%\n"
     ]
    },
    {
     "data": {
      "image/png": "[encoded data removed]",
      "text/plain": [
       "<Figure size 1500x600 with 1 Axes>"
      ]
     },
     "metadata": {},
     "output_type": "display_data"
    }
   ],
   "source": [
    "# What are the percentages of Free and Paid apps?\n",
    "\n",
    "# Check the percentage of 'Free' and 'Paid' apps\n",
    "print(f\"Percentage share of 'Free' apps: {df['Free'].mean()*100:.2f}%\")\n",
    "\n",
    "# also check the percentage of 'Paid' apps\n",
    "print(f\"Percentage share of 'Paid' apps: {(1-df['Free'].mean())*100:.2f}%\")\n",
    "\n",
    "# show this percentage through pie chart\n",
    "plt.figure(figsize=(15, 6))\n",
    "plt.pie(x=[df['Free'].mean()*100, (1-df['Free'].mean())*100], labels=['Free', 'Paid'], autopct='%1.1f%%', startangle=90)\n",
    "plt.title('Percentage of Free vs Paid apps')\n",
    "plt.show()"
   ]
  },
  {
   "cell_type": "markdown",
   "id": "f25c7f89",
   "metadata": {
    "papermill": {
     "duration": 0.027955,
     "end_time": "2024-10-20T16:07:20.180237",
     "exception": false,
     "start_time": "2024-10-20T16:07:20.152282",
     "status": "completed"
    },
    "tags": []
   },
   "source": [
    "# Summary & Key Findings:\n",
    "#### Throughout this project, our objective was to analyze the Google Play Store dataset and extract valuable insights for developers and stakeholders. By conducting an in-depth Exploratory Data Analysis (EDA), we have made significant progress:\n",
    "\n",
    "#### Data Cleaning: The dataset was thoroughly cleaned, taking care of any missing values and resolving any duplication issues. This ensures the reliability and accuracy of the subsequent analysis.\n",
    "\n",
    "#### Revenue Contribution: Our analysis revealed that educational apps make a substantial contribution to app sales revenue. This insight suggests that developers and stakeholders should consider investing in educational app development to capitalize on this lucrative market segment.\n",
    "\n",
    "#### Top-Rated Categories: By examining the average ratings, we identified several top-rated categories, including Role Playing, Casino, Simulation, Card, Weather, and Racing. Developers can leverage this information to focus their efforts on these categories and potentially enhance their app development strategies accordingly.\n",
    "\n",
    "#### In conclusion, this EDA provides valuable guidance for developers and stakeholders in the mobile app market. By capitalizing on the revenue potential of educational apps and prioritizing top-rated categories, they can align their development strategies with customer preferences and market dynamics, increasing their chances of success in this competitive landscape."
   ]
  }
 ],
 "metadata": {
  "kaggle": {
   "accelerator": "none",
   "dataSources": [
    {
     "datasetId": 157336,
     "sourceId": 2344679,
     "sourceType": "datasetVersion"
    }
   ],
   "dockerImageVersionId": 30786,
   "isGpuEnabled": false,
   "isInternetEnabled": true,
   "language": "python",
   "sourceType": "notebook"
  },
  "kernelspec": {
   "display_name": "Python 3",
   "language": "python",
   "name": "python3"
  },
  "language_info": {
   "codemirror_mode": {
    "name": "ipython",
    "version": 3
   },
   "file_extension": ".py",
   "mimetype": "text/x-python",
   "name": "python",
   "nbconvert_exporter": "python",
   "pygments_lexer": "ipython3",
   "version": "3.10.14"
  },
  "papermill": {
   "default_parameters": {},
   "duration": 173.308448,
   "end_time": "2024-10-20T16:07:21.734364",
   "environment_variables": {},
   "exception": null,
   "input_path": "__notebook__.ipynb",
   "output_path": "__notebook__.ipynb",
   "parameters": {},
   "start_time": "2024-10-20T16:04:28.425916",
   "version": "2.6.0"
  }
 },
 "nbformat": 4,
 "nbformat_minor": 5
}
